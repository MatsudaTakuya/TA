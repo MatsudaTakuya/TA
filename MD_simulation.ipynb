{
 "cells": [
  {
   "cell_type": "markdown",
   "metadata": {},
   "source": [
    "2.ミクロカノニカル(NVE一定)分子動力学シミュレーション"
   ]
  },
  {
   "cell_type": "code",
   "execution_count": 14,
   "metadata": {
    "collapsed": true
   },
   "outputs": [],
   "source": [
    "% matplotlib inline\n",
    "import math\n",
    "import numpy as np            \n",
    "import matplotlib.pyplot as plt"
   ]
  },
  {
   "cell_type": "code",
   "execution_count": 15,
   "metadata": {
    "collapsed": false
   },
   "outputs": [
    {
     "data": {
      "text/plain": [
       "0.6691868059272222"
      ]
     },
     "execution_count": 15,
     "metadata": {},
     "output_type": "execute_result"
    }
   ],
   "source": [
    "N=108\n",
    "FREE=3.0\n",
    "VX=np.zeros(N)\n",
    "VY=np.zeros(N)\n",
    "VZ=np.zeros(N)\n",
    "FX=np.zeros(N)\n",
    "FY=np.zeros(N)\n",
    "FZ=np.zeros(N)\n",
    "seed=2017\n",
    "#np.random.seed(seed)\n",
    "np.random.rand()"
   ]
  },
  {
   "cell_type": "code",
   "execution_count": 16,
   "metadata": {
    "collapsed": false
   },
   "outputs": [
    {
     "name": "stdout",
     "output_type": "stream",
     "text": [
      " NUMBER OF ATOMS      =         108\n",
      "\n",
      " NUMBER OF STEPS        =       10000\n",
      "\n",
      " OUTPUT FREQUENCY    =        1000\n",
      "\n",
      " POTENTIAL CUTOFF     =      0.2000\n",
      "\n",
      " DENSITY                         =      0.5000\n",
      "\n",
      " TIME STEP                      =  100.000000\n",
      "\n"
     ]
    }
   ],
   "source": [
    "#   READ IN INITIAL PARAMETERS \n",
    "#\" MOLECULAR DYNAMICS OF LENNARD-JONES ATOMS\n",
    "#\" ENTER NUMBER OF STEPS\n",
    "NSTEP=10000\n",
    "#ENTER NUMBER OF STEPS BETWEEN OUTPUT LINES\n",
    "IPRINT=1000\n",
    "#ENTER THE FOLLOWING IN LENNARD-JONES UNITS\n",
    "#ENTER THE DENSITY\n",
    "DENS=0.50\n",
    "#ENTER THE POTENTIAL CUTOFF DISTANCE\n",
    "RCUT=0.20\n",
    "#ENTER THE CORE RADIUS TO AVOID OVERLAP\n",
    "RMIN=2.0\n",
    "# ENTER THE TIME STEP\n",
    "DT=100\n",
    "L = pow(N / DENS, 1.0 / 3.0)\n",
    "if RCUT > 0.5*L:\n",
    "        RCUT = 0.5*L\n",
    "print(\" NUMBER OF ATOMS      =  %10d\\n\" % N);\n",
    "print(\" NUMBER OF STEPS        =  %10d\\n\" % NSTEP);\n",
    "print(\" OUTPUT FREQUENCY    =  %10d\\n\"% IPRINT);\n",
    "print(\" POTENTIAL CUTOFF     =  %10.4f\\n\" % RCUT);\n",
    "print(\" DENSITY                         =  %10.4f\\n\" % DENS);\n",
    "print(\" TIME STEP                      =  %10.6f\\n\" % DT);"
   ]
  },
  {
   "cell_type": "code",
   "execution_count": 17,
   "metadata": {
    "collapsed": false
   },
   "outputs": [],
   "source": [
    "#RANDOM INITIAL CONFIGURATION\n",
    "RX = np.random.rand(N) - 0.5\n",
    "RY = np.random.rand(N) - 0.5\n",
    "RZ = np.random.rand(N) - 0.5\n",
    "for i in range(N):\n",
    "    for j in range(i):\n",
    "        DX = (RX[i] - RX[j])\n",
    "        DY = (RY[i] - RY[j])\n",
    "        DZ = (RZ[i] - RZ[j])\n",
    "        DX -= np.floor(DX + 0.5)\n",
    "        DY -= np.floor(DY + 0.5)\n",
    "        DZ -= np.floor(DZ + 0.5)\n",
    "        DR = np.sqrt(DX*DX + DY*DY + DZ*DZ)\n",
    "        if DR*L < RMIN:\n",
    "            --i\n",
    "            break"
   ]
  },
  {
   "cell_type": "code",
   "execution_count": 18,
   "metadata": {
    "collapsed": false
   },
   "outputs": [],
   "source": [
    "#CALCULATE LONG-RANGE CORRECTIONS \n",
    "SR3 = pow(1.0 / RCUT, 3.0)\n",
    "SR9 = SR3 * SR3 * SR3\n",
    "VLRC12 =  8.0 * np.pi *DENS * N * SR9 / 9.0\n",
    "VLRC6  = -8.0 * np.pi * DENS *N * SR3 / 3.0\n",
    "VLRC = VLRC12 + VLRC6\n",
    "WLRC12 = 12.0 * VLRC12\n",
    "WLRC6  =  6.0 * VLRC6\n",
    "WLRC = WLRC12 + WLRC6\n",
    "\n",
    "#ZERO ACCUMULATORS \n",
    "ACV  = 0.0\n",
    "ACK  = 0.0\n",
    "ACE  = 0.0\n",
    "ACEC = 0.0\n",
    "ACP  = 0.0\n",
    "ACT  = 0.0\n",
    "ACVSQ  = 0.0\n",
    "ACKSQ  = 0.0\n",
    "ACESQ  = 0.0\n",
    "ACECSQ = 0.0\n",
    "ACPSQ  = 0.0\n",
    "ACTSQ  = 0.0\n",
    "FLV  = 0.0\n",
    "FLK  = 0.0\n",
    "FLE  = 0.0\n",
    "FLEC = 0.0\n",
    "FLP  = 0.0\n",
    "FLT  = 0.0"
   ]
  },
  {
   "cell_type": "code",
   "execution_count": 19,
   "metadata": {
    "collapsed": false
   },
   "outputs": [],
   "source": [
    "def FORCE(pL, pRCUT, pV, pVC, pW, RX, RY, RZ, VX, VY, VZ, FX, FY, FZ):\n",
    "    \n",
    "    RCUTSQ = pow(pRCUT / pL, 2.0)\n",
    "    SIGSQ  = pow(pL, -2.0)\n",
    "    for I in range(N):\n",
    "        FX[I] = 0.0\n",
    "        FY[I] = 0.0\n",
    "        FZ[I] = 0.0\n",
    "    \n",
    "    pV = 0.0\n",
    "    pW = 0.0\n",
    "    NCUT = 0\n",
    "#CONDUCT OUTER LOOP OVER ATOMS \n",
    "    for I in range(N-1):\n",
    "        RXI = RX[I]\n",
    "        RYI = RY[I]\n",
    "        RZI = RZ[I]\n",
    "        FXI = FX[I]\n",
    "        FYI = FY[I]\n",
    "        FZI = FZ[I]\n",
    "#CONDUCT INNER LOOP OVER ATOMS\n",
    "        for J in range(I+1, N):\n",
    "            RXIJ = RXI - RX[J]\n",
    "            RYIJ = RYI - RY[J]\n",
    "            RZIJ = RZI - RZ[J]\n",
    "#MINIMUM IMAGE THE PAIR SEPARATIONS\n",
    "            RXIJ -= np.floor(RXIJ + 0.5)\n",
    "            RYIJ -= np.floor(RYIJ + 0.5)\n",
    "            RZIJ -= np.floor(RZIJ + 0.5)\n",
    "            RIJSQ = RXIJ*RXIJ + RYIJ*RYIJ + RZIJ*RZIJ\n",
    "            if RIJSQ < RCUTSQ :\n",
    "                SR2   = SIGSQ / RIJSQ\n",
    "                SR6   = SR2 * SR2 * SR2\n",
    "                SR12  = SR6 * SR6\n",
    "                VIJ   = 4.0 * (SR12 - SR6)\n",
    "                WIJ   = 24.0 * (2.0 * SR12 - SR6)\n",
    "                pV   += VIJ\n",
    "                pW   += WIJ\n",
    "                FIJ   = WIJ / RIJSQ\n",
    "                FXIJ  = FIJ * RXIJ\n",
    "                FYIJ  = FIJ * RYIJ\n",
    "                FZIJ  = FIJ * RZIJ\n",
    "                FXI   += FXIJ\n",
    "                FYI   += FYIJ\n",
    "                FZI   += FZIJ\n",
    "                FX[J] -= FXIJ\n",
    "                FY[J] -= FYIJ\n",
    "                FZ[J] -= FZIJ\n",
    "                ++NCUT\n",
    "#END OF INNER LOOP \n",
    "        FX[I] = FXI\n",
    "        FY[I] = FYI\n",
    "        FZ[I] = FZI\n",
    "\n",
    "#CONVERT FORCE INTO LJ UNIT \n",
    "        for I in range(N):\n",
    "            FX[I] /= pL\n",
    "            FY[I] /= pL\n",
    "            FZ[I] /= pL\n",
    "#CALCULATE POTENTIAL SHIFT  */\n",
    "        SR2  = SIGSQ / RCUTSQ\n",
    "        SR6  = SR2 * SR2 * SR2\n",
    "        SR12 = SR6 * SR6\n",
    "        VIJ  = 4.0 * (SR12 -SR6)\n",
    "        pVC = pV - NCUT * VIJ"
   ]
  },
  {
   "cell_type": "code",
   "execution_count": 20,
   "metadata": {
    "collapsed": false
   },
   "outputs": [],
   "source": [
    "def KINET(pK, VX, VY, VZ):\n",
    "#COMPUTES KINETIC ENERGY\n",
    "    pK = 0.0;\n",
    "    for I in range(N):\n",
    "        pK += VX[I]*VX[I] + VY[I]*VY[I] + VZ[I]*VZ[I]\n",
    "    pK *= 0.5;"
   ]
  },
  {
   "cell_type": "code",
   "execution_count": 21,
   "metadata": {
    "collapsed": true
   },
   "outputs": [],
   "source": [
    "def MOVEA(pDT, pL, RX, RY, RZ, VX, VY, VZ, FX, FY, FZ):\n",
    "    DT2 = pDT / 2.0\n",
    "    DTSQ2 = pDT * DT2\n",
    "    for I in range(N):\n",
    "        RX[I] += (pDT*VX[I] + DTSQ2*FX[I]) / pL\n",
    "        RY[I] += (pDT*VY[I] + DTSQ2*FY[I]) / pL\n",
    "        RZ[I] += (pDT*VZ[I] + DTSQ2*FZ[I]) / pL\n",
    "        VX[I] += DT2 * FX[I]\n",
    "        VY[I] += DT2 * FY[I]\n",
    "        VZ[I] += DT2 * FZ[I]"
   ]
  },
  {
   "cell_type": "code",
   "execution_count": 22,
   "metadata": {
    "collapsed": true
   },
   "outputs": [],
   "source": [
    "def MOVEB(pDT, pK, RX, RY, RZ, VX, VY, VZ, FX, FY, FZ):\n",
    "#SECOND PART OF VELOCITY VERLET ALGORITHM \n",
    "    DT2 = pDT / 2.0\n",
    "    pK = 0.0\n",
    "    for I in range(N):\n",
    "        VX[I] += DT2 * FX[I]\n",
    "        VY[I] += DT2 * FY[I]\n",
    "        VZ[I] += DT2 * FZ[I]\n",
    "        pK += VX[I]*VX[I] + VY[I]*VY[I] + VZ[I]*VZ[I]\n",
    "    pK *= 0.5"
   ]
  },
  {
   "cell_type": "code",
   "execution_count": 23,
   "metadata": {
    "collapsed": false
   },
   "outputs": [
    {
     "name": "stdout",
     "output_type": "stream",
     "text": [
      " INITIAL V/N       =  2726553.3575\n",
      "\n",
      " INITIAL W/N       =  32721781.8822\n",
      "\n",
      " INITIAL P         =  5453630.3137\n",
      "\n"
     ]
    }
   ],
   "source": [
    "#CALCULATE INITIAL VALUES  \n",
    "V=0\n",
    "VC=0\n",
    "W=0\n",
    "K=0\n",
    "FORCE(L, RCUT, V, VC, W,RX, RY, RZ, VX, VY, VZ, FX, FY, FZ)\n",
    "KINET(K, VX, VY, VZ)\n",
    "KN = K / N\n",
    "TEMP = 2.0 * KN / FREE\n",
    "VS = (V + VLRC) / N\n",
    "WS = (W + WLRC) / N\n",
    "PS = DENS * TEMP + (W + WLRC) / (3.0 * L*L*L)\n",
    "print(\" INITIAL V/N       =  %10.4f\\n\" % VS);\n",
    "print(\" INITIAL W/N       =  %10.4f\\n\" % WS);\n",
    "print(\" INITIAL P         =  %10.4f\\n\" %PS);"
   ]
  },
  {
   "cell_type": "code",
   "execution_count": 24,
   "metadata": {
    "collapsed": false
   },
   "outputs": [
    {
     "name": "stdout",
     "output_type": "stream",
     "text": [
      "\n",
      "**** START OF DYNAMICS ****\n",
      "\n",
      "\n",
      "    TIMESTEP     ENERGY    CUTENERGY    KINETIC    POTENTIAL    PRESSURE  TEMPERATURE \n",
      "\n",
      "         0  2726553.3575      0.0000      0.0000  2726553.3575  5453630.3137      0.0000\n",
      "\n",
      "      1000  2729279910.8231      0.0000      0.0000  2729279910.8231  5459083944.0203      0.0000\n",
      "\n",
      "      2000  5455833268.2885      0.0000      0.0000  5455833268.2885  10912714257.7273      0.0000\n",
      "\n",
      "      3000  8182386625.7545      0.0000      0.0000  8182386625.7545  16366344571.4336      0.0000\n",
      "\n",
      "      4000  10908939983.2201      0.0000      0.0000  10908939983.2201  21819974885.1393      0.0000\n",
      "\n",
      "      5000  13635493340.6850      0.0000      0.0000  13635493340.6850  27273605198.8449      0.0000\n",
      "\n",
      "      6000  16362046698.1498      0.0000      0.0000  16362046698.1498  32727235512.5506      0.0000\n",
      "\n",
      "      7000  19088600055.6146      0.0000      0.0000  19088600055.6146  38180865826.2562      0.0000\n",
      "\n",
      "      8000  21815153413.0806      0.0000      0.0000  21815153413.0806  43634496139.9618      0.0000\n",
      "\n",
      "      9000  24541706770.5477      0.0000      0.0000  24541706770.5477  49088126453.6675      0.0000\n",
      "\n",
      "     10000  27268260128.0148      0.0000      0.0000  27268260128.0148  54541756767.3731      0.0000\n",
      "\n",
      "\n",
      "**** END OF DYNAMICS ****\n",
      "\n",
      "\n"
     ]
    }
   ],
   "source": [
    "#/*******************************************************************/\n",
    "#/*  MAIN LOOP BEGINS                                               */\n",
    "#/*******************************************************************/\n",
    "print(\"\\n**** START OF DYNAMICS ****\\n\\n\");\n",
    "print(\"    TIMESTEP     ENERGY    CUTENERGY    KINETIC    POTENTIAL    PRESSURE  TEMPERATURE \\n\");\n",
    "for STEP in range(NSTEP+ 1):\n",
    "#/*  VELOCITY VERLET ALGORITHM         */\n",
    "#/*  Update positions r(t) -> r(t+dt)  */\n",
    "#/*  and Velocities v(t) -> v(t+dt/2)  */\n",
    "    MOVEA(DT, L, RX, RY, RZ, VX, VY, VZ, FX, FY, FZ)\n",
    "#/*  Calculate force f(t+dt)  */\n",
    "    FORCE(L, RCUT, V, VC, W,RX, RY, RZ, VX, VY, VZ, FX, FY, FZ)\n",
    "#/*  Update velocities v(t+dt/2) -> v(t+dt) by using f(t+dt)  */\n",
    "    MOVEB(DT, K, RX, RY, RZ, VX, VY, VZ, FX, FY, FZ)\n",
    "#/*  INCLUDE LONG-RANGE CORRECTIONS  */\n",
    "    V += VLRC\n",
    "    W += WLRC\n",
    "#/*  CALCULATE INSTANTANEOUS VALUES  */\n",
    "    E    = K + V\n",
    "    EC   = K + VC\n",
    "    VN   = V  / float(N)\n",
    "    KN   = K  / float(N)\n",
    "    EN   = E  / float(N)\n",
    "    ECN  = EC / float(N)\n",
    "    TEMP = 2.0 * KN / FREE\n",
    "    PRES = DENS * TEMP + W / (3.0 * L*L*L)\n",
    "#/*  INCREMENT ACCUMULATORS  */\n",
    "    ACE  += EN\n",
    "    ACEC += ECN\n",
    "    ACK  += KN\n",
    "    ACV  += VN\n",
    "    ACP  += PRES\n",
    "    ACESQ  += EN * EN\n",
    "    ACECSQ += ECN * ECN\n",
    "    ACKSQ  += KN * KN\n",
    "    ACVSQ  += VN * VN\n",
    "    ACPSQ  += PRES * PRES\n",
    "#/*  PERFORM PERIODIC OPERATIONS    */\n",
    "#/*  WRITE OUT RUNTIME INFORMATION  */\n",
    "    if STEP%IPRINT == 0:\n",
    "        print(\"  %8d  %10.4f  %10.4f  %10.4f  %10.4f  %10.4f  %10.4f\\n\" %(STEP, EN, ECN, KN, VN, PRES, TEMP))\n",
    "print(\"\\n**** END OF DYNAMICS ****\\n\\n\");\n",
    "#/*******************************************************************/\n",
    "#/*  MAIN LOOP ENDS                                                 */\n",
    "#/*******************************************************************/"
   ]
  },
  {
   "cell_type": "code",
   "execution_count": 25,
   "metadata": {
    "collapsed": false
   },
   "outputs": [
    {
     "name": "stdout",
     "output_type": "stream",
     "text": [
      "  AVERAGES   13636856890.01905     0.00000     0.00000  13636856890.01905  27276332559.36439     0.00000\n",
      "\n",
      "   FLUCTS    7870881062.76119     0.00000     0.00000  7870881062.76119  15743273624.89202     0.00000\n",
      "\n"
     ]
    }
   ],
   "source": [
    "#/*  OUTPUT RUN AVERAGES  */\n",
    "NORM = float(NSTEP)\n",
    "AVE  = ACE  / NORM\n",
    "AVEC = ACEC / NORM\n",
    "AVK  = ACK  / NORM\n",
    "AVV  = ACV  / NORM\n",
    "AVP  = ACP  / NORM\n",
    "ACESQ  = (ACESQ  / NORM) - AVE * AVE\n",
    "ACECSQ = (ACECSQ / NORM) - AVEC* AVEC\n",
    "ACKSQ  = (ACKSQ  / NORM) - AVK * AVK\n",
    "ACVSQ  = (ACVSQ  / NORM) - AVV * AVV\n",
    "ACPSQ  = (ACPSQ  / NORM) - AVP * AVP\n",
    "\n",
    "if ACESQ  > 0.0:\n",
    "    FLE  = math.sqrt(ACESQ)\n",
    "if ACECSQ > 0.0:\n",
    "    FLEC = math.sqrt(ACECSQ)\n",
    "if ACKSQ  > 0.0:\n",
    "    FLK  = math.sqrt(ACKSQ)\n",
    "if ACVSQ  > 0.0:\n",
    "    FLV  = math.sqrt(ACVSQ)\n",
    "if ACPSQ  > 0.0:\n",
    "    FLP  = math.sqrt(ACPSQ)\n",
    "AVT = AVK * 2.0 / FREE\n",
    "FLT = FLK * 2.0 / FREE\n",
    "\n",
    "print(\"  AVERAGES   %10.5f  %10.5f  %10.5f  %10.5f  %10.5f  %10.5f\\n\" %(AVE, AVEC, AVK, AVV, AVP, AVT))\n",
    "print(\"   FLUCTS    %10.5f  %10.5f  %10.5f  %10.5f  %10.5f  %10.5f\\n\"%(FLE, FLEC, FLK, FLV, FLP, FLT) )"
   ]
  },
  {
   "cell_type": "code",
   "execution_count": null,
   "metadata": {
    "collapsed": true
   },
   "outputs": [],
   "source": []
  },
  {
   "cell_type": "code",
   "execution_count": null,
   "metadata": {
    "collapsed": true
   },
   "outputs": [],
   "source": []
  },
  {
   "cell_type": "code",
   "execution_count": null,
   "metadata": {
    "collapsed": true
   },
   "outputs": [],
   "source": []
  },
  {
   "cell_type": "code",
   "execution_count": null,
   "metadata": {
    "collapsed": true
   },
   "outputs": [],
   "source": []
  }
 ],
 "metadata": {
  "anaconda-cloud": {},
  "kernelspec": {
   "display_name": "Python [conda root]",
   "language": "python",
   "name": "conda-root-py"
  },
  "language_info": {
   "codemirror_mode": {
    "name": "ipython",
    "version": 3
   },
   "file_extension": ".py",
   "mimetype": "text/x-python",
   "name": "python",
   "nbconvert_exporter": "python",
   "pygments_lexer": "ipython3",
   "version": "3.5.2"
  }
 },
 "nbformat": 4,
 "nbformat_minor": 1
}
